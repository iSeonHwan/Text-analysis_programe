{
  "nbformat": 4,
  "nbformat_minor": 0,
  "metadata": {
    "colab": {
      "name": "Text-Analysis_3.ipynb",
      "provenance": [],
      "collapsed_sections": [],
      "authorship_tag": "ABX9TyMaTycap+tirrzHRq2e3h+U",
      "include_colab_link": true
    },
    "kernelspec": {
      "name": "python3",
      "display_name": "Python 3"
    },
    "language_info": {
      "name": "python"
    }
  },
  "cells": [
    {
      "cell_type": "markdown",
      "metadata": {
        "id": "view-in-github",
        "colab_type": "text"
      },
      "source": [
        "<a href=\"https://colab.research.google.com/github/iSeonHwan/Text-analysis_programe/blob/main/Text_Analysis_3.ipynb\" target=\"_parent\"><img src=\"https://colab.research.google.com/assets/colab-badge.svg\" alt=\"Open In Colab\"/></a>"
      ]
    },
    {
      "cell_type": "code",
      "metadata": {
        "id": "ANm6QEBZf2KU"
      },
      "source": [
        "#텍스트 분석 프로그램. ver3(버전1에서 알고리즘을 살짝 바꾼 버전. 구두점 제거의 순서를 앞으로 당겼다.)\n",
        "\n",
        "#1. 텍스트 파일을 읽는다.\n",
        "\n",
        "tf = open('source/1.txt', 'r') #상대 경로로 소스 파일에 접근한다. 'tf'는 text-file의 약자이다.\n",
        "\n",
        "#2. 텍스트를 띄어쓰기, 구두점 등으로 끊어서 딕셔너리 구조에 집어 넣는다.\n",
        "\n",
        "#일정한 단위로 문자열을 저장할 리스트형 임시 변수를 만든다.\n",
        "lines_1 = []\n",
        "\n",
        "while True:\n",
        "    # tf에서 한 줄씩 읽어와 line에 저장한다.\n",
        "    line = tf.readline()\n",
        "    # 만일, line이 ''(즉, 문자열이 없는 끝)이라면, lines_1에 추가하는 작업을 하지 않는다.\n",
        "    if (line == ''):\n",
        "        break\n",
        "    #line에 저장된 문자열을 리스트 lines_1에 추가한다.\n",
        "    lines_1.append(line)\n",
        "\n",
        "#리스트 lines_1을 출력한다.\n",
        "print(\"lines_1:\", lines_1)\n",
        "\n",
        "#일정한 단위로 문자열을 받는 임시 변수를 만든다.\n",
        "lines_2 = []\n",
        "\n",
        "#어절 단위로 쪼개어진 단위들의 앞 뒤에 구두점을 제거한다.\n",
        "#제거할 구두점을 임시 저장하는 변수를 만든다.\n",
        "mark = \"\\n!.?,'“”{}()\"\n",
        "\n",
        "#line_1에 차례대로 접근하여서 구두점을 제거하며 line_2에 저장한다.\n",
        "#먼저, line_1에 차례대로 접근한다.\n",
        "for k in range(len(lines_1)):\n",
        "    # lines_1[k]로 lines_1에 순차적으로 접근하여 일단, refining에 임시 저장한다.\n",
        "    refining = lines_1[k]\n",
        "\n",
        "    # replace()로 구두점을 제거하고 제거한 결과를 다시 refining에 저장한다.\n",
        "    for x in range(len(mark)):\n",
        "        refining = refining.replace(mark[x], \" \")\n",
        "    #최종적으로 모든 구두점을 제거한 refining을 lines_2에 저장한다.\n",
        "    lines_2.append(refining)\n",
        "\n",
        "print(\"lines_2: \", lines_2)\n",
        "\n",
        "#구두점을 제거한 표현 단위를 저장하는 리스트를 만든다.\n",
        "lines_3 = []\n",
        "\n",
        "for i in range(len(lines_2)):\n",
        "    word_1 = lines_2[i].split(' ')\n",
        "    #리스트 word_1 안의 요소를 각각 빼내어 line_2에 넣는다.\n",
        "    for j in range(len(word_1)):\n",
        "        lines_3.append(word_1[j])\n",
        "\n",
        "#lines_3에서 의미없는 ''는 삭제한다.\n",
        "while True:\n",
        "    if ('' in lines_3):\n",
        "        lines_3.remove('')\n",
        "    else:\n",
        "        break\n",
        "\n",
        "print(\"line_3: \", lines_3)\n",
        "#입력 모드의 파일을 닫는다.\n",
        "tf.close()\n",
        "\n",
        "#3. 딕셔너리 구조를 파일로 반환한다.\n",
        "#open('파일이름.txt', w)\n"
      ],
      "execution_count": null,
      "outputs": []
    }
  ]
}