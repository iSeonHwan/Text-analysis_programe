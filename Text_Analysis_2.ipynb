{
  "nbformat": 4,
  "nbformat_minor": 0,
  "metadata": {
    "colab": {
      "name": "Text-Analysis_2.ipynb",
      "provenance": [],
      "collapsed_sections": [],
      "authorship_tag": "ABX9TyMwjA/HMIOYXamZEJAY37jN",
      "include_colab_link": true
    },
    "kernelspec": {
      "name": "python3",
      "display_name": "Python 3"
    },
    "language_info": {
      "name": "python"
    }
  },
  "cells": [
    {
      "cell_type": "markdown",
      "metadata": {
        "id": "view-in-github",
        "colab_type": "text"
      },
      "source": [
        "<a href=\"https://colab.research.google.com/github/iSeonHwan/Text-analysis_programe/blob/main/Text_Analysis_2.ipynb\" target=\"_parent\"><img src=\"https://colab.research.google.com/assets/colab-badge.svg\" alt=\"Open In Colab\"/></a>"
      ]
    },
    {
      "cell_type": "code",
      "metadata": {
        "id": "JHiONSUTfizB"
      },
      "source": [
        "#텍스트 분석 프로그램. ver1(구두점이 포함된 정제된 텍스트 파일에서 구두점 및 띄어쓰기 등을 제거하고 일정한 단어 및 어절을 정제하는 프로그램)\n",
        "\n",
        "\n",
        "\n",
        "#텍스트 파일로부터 문자열을 가져와 처리하는 코드를 아래와 같이 정의한다. 이 코드는 Text-Analysis_1의 일부를 약간 변형한 것이다.\n",
        "def text_read(arg_1):\n",
        "    # 1. 텍스트 파일을 읽는다.\n",
        "    tf = open('source/3.txt', 'r')  # 상대 경로로 소스 파일에 접근한다. 'tf'는 text-file의 약자이다.\n",
        "    #2. 텍스트를 띄어쓰기, 구두점 등으로 끊어서 딕셔너리 구조에 집어 넣는다.\n",
        "    #일정한 단위로 문자열을 저장할 리스트형 임시 변수를 만든다.\n",
        "    lines_1 = []\n",
        "    while True:\n",
        "        # tf에서 arg_1개씩 읽어와 line에 저장한다.\n",
        "        line = tf.read(arg_1)\n",
        "        # 만일, line이 ''(즉, 문자열이 없는 끝)이라면, lines_1에 추가하는 작업을 하지 않는다.\n",
        "        if (line == ''):\n",
        "            break\n",
        "        #line에 저장된 문자열을 리스트 lines_1에 추가한다.\n",
        "        lines_1.append(line)\n",
        "\n",
        "    #일정한 단위로 문자열을 받는 임시 변수를 만든다.\n",
        "    lines_2 = []\n",
        "    for i in range(len(lines_1)):\n",
        "        word_1 = lines_1[i].split(' ')\n",
        "        #리스트 word_1 안의 요소를 각각 빼내어 line_2에 넣는다.\n",
        "        for j in range(len(word_1)):\n",
        "            lines_2.append(word_1[j])\n",
        "\n",
        "    #어절 단위로 쪼개어진 단위들의 앞 뒤에 구두점을 제거한다.\n",
        "    #제거할 구두점을 임시 저장하는 변수를 만든다.\n",
        "    mark = \"\\n!.?,' \"\n",
        "\n",
        "    #구두점을 제거한 표현 단위를 저장하는 리스트를 만든다.\n",
        "    lines_3 = []\n",
        "\n",
        "    #line_2에 차례대로 접근하여서 구두점을 제거하며 line_3에 저장한다.\n",
        "    #먼저, line_2에 차례대로 접근한다.\n",
        "    for k in range(len(lines_2)):\n",
        "        # lines_2[k]로 lines_2에 순차적으로 접근하여 일단, refining에 임시 저장한다.\n",
        "        refining = lines_2[k]\n",
        "\n",
        "        # replace()로 구두점을 제거하고 제거한 결과를 다시 refining에 저장한다.\n",
        "        for x in range(len(mark)):\n",
        "            refining = refining.replace(mark[x], \"\")\n",
        "        #최종적으로 모든 구두점을 제거한 refining을 lines_3에 저장한다.\n",
        "        lines_3.append(refining)\n",
        "\n",
        "    #lines_3에서 의미없는 ''는 삭제한다.\n",
        "    while True:\n",
        "        if ('' in lines_3):\n",
        "            lines_3.remove('')\n",
        "        else:\n",
        "            break\n",
        "\n",
        "    print(f'split a {arg_1} in text:', lines_3)\n",
        "    return lines_3\n",
        "\n",
        "    #입력 모드의 파일을 닫는다.\n",
        "    tf.close()\n",
        "\n",
        "'''----------------------------------<Main Code>----------------------------------------------'''\n",
        "\n",
        "#텍스트를 인자로 설정한 범위로 끊어서 읽어 처리하는 두 함수를 실행한다.\n",
        "list1 = text_read(37)\n",
        "list2 = text_read(13)\n",
        "\n",
        "#서로 다른 리스트에서 공통된 부분만을 남기고 나머지는 버린다.\n",
        "#공통된 부분의 문자열을 저장할 리스트를 만든다.\n",
        "list3 = []\n",
        "if len(list1) > len(list2):\n",
        "    for i in range(len(list2)):\n",
        "      if list2[i] in list1:\n",
        "          list3.append(list2[i])\n",
        "else:\n",
        "    for i in range(len(list1)):\n",
        "      if list1[i] in list2:\n",
        "          list3.append(list1[i])\n",
        "\n",
        "print(\"list3:\", list3)\n",
        "\n",
        "#3. 딕셔너리 구조를 파일로 반환한다.\n",
        "#open('파일이름.txt', w)"
      ],
      "execution_count": null,
      "outputs": []
    }
  ]
}